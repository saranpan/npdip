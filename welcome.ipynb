{
 "cells": [
  {
   "cell_type": "code",
   "execution_count": 1,
   "id": "91f3e1ba-0417-488a-97b6-b9c67ac6e1de",
   "metadata": {},
   "outputs": [
    {
     "name": "stdout",
     "output_type": "stream",
     "text": [
      "Make Sure you store data in 'X' & 'Y' \n"
     ]
    }
   ],
   "source": [
    "print(\"\"\"Make Sure you store data in 'X' & 'Y' \n",
    "        \n",
    "        then you can run welcome()\n",
    "        \"\"\")\n"
   ]
  },
  {
   "cell_type": "code",
   "execution_count": 2,
   "id": "f7b81b65-1310-4d12-b3a9-01c0c05a5208",
   "metadata": {},
   "outputs": [],
   "source": [
    "def welcome():\n",
    "    global X,Y\n",
    "    \n",
    "    regularizer = input(\"What is regularizer (L2/ Dropout else nothing)\")\n",
    "    if regularizer == 'L2':\n",
    "        lambd = float( input(\"What is Lambda (For L2)\") )\n",
    "    \n",
    "    \n",
    "        "
   ]
  }
 ],
 "metadata": {
  "kernelspec": {
   "display_name": "Python 3 (ipykernel)",
   "language": "python",
   "name": "python3"
  },
  "language_info": {
   "codemirror_mode": {
    "name": "ipython",
    "version": 3
   },
   "file_extension": ".py",
   "mimetype": "text/x-python",
   "name": "python",
   "nbconvert_exporter": "python",
   "pygments_lexer": "ipython3",
   "version": "3.9.7"
  }
 },
 "nbformat": 4,
 "nbformat_minor": 5
}
