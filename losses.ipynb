{
 "cells": [
  {
   "cell_type": "markdown",
   "id": "822b80cb-95a6-4ac8-ba14-e9ecb7c9c7cf",
   "metadata": {},
   "source": [
    "# Loss function\n",
    "- Used to evaluate how good the model is fit to the data\n",
    "- Q: Why matter ? without them, \n",
    "- A: we do not know what to fill in blank <br>\n",
    "Gradient of ____ with respect to this parameter\n",
    "- This module only used to report the loss\n",
    "\n",
    "### Available loss function : \n",
    "- Binary Cross Entropy function (**was planning to remove to make it general for both binary and multi-**)\n",
    "- Cross Entropy function\n",
    "\n",
    "The following cost function is being used since it's atleast a convex function for Logistic regression (No hidden layer)"
   ]
  },
  {
   "cell_type": "code",
   "execution_count": 2,
   "id": "b9410bc3-bb0a-4286-be27-98c3f06cb538",
   "metadata": {},
   "outputs": [],
   "source": [
    "import numpy as np"
   ]
  },
  {
   "cell_type": "code",
   "execution_count": null,
   "id": "044233e0-9bd9-4cba-a15f-57e9aff4bfb0",
   "metadata": {},
   "outputs": [],
   "source": [
    "__all__ = ['binary_cross_entropy_loss']"
   ]
  },
  {
   "cell_type": "code",
   "execution_count": null,
   "id": "d55656a8-6d8f-4e25-ba82-817245262951",
   "metadata": {},
   "outputs": [],
   "source": [
    "def binary_cross_entropy_loss(a: np.ndarray, y: np.ndarray) -> np.ndarray :  #plan to merge into cross entropy loss\n",
    "    return -((y * np.log(a)) + ((1 - y) * np.log(1 - a)))\n",
    "\n",
    "def cross_entropy_loss(a: np.ndarray, y: np.ndarray) -> np.ndarray :\n",
    "    # ...\n",
    "    pass"
   ]
  }
 ],
 "metadata": {
  "kernelspec": {
   "display_name": "Python 3 (ipykernel)",
   "language": "python",
   "name": "python3"
  },
  "language_info": {
   "codemirror_mode": {
    "name": "ipython",
    "version": 3
   },
   "file_extension": ".py",
   "mimetype": "text/x-python",
   "name": "python",
   "nbconvert_exporter": "python",
   "pygments_lexer": "ipython3",
   "version": "3.9.7"
  }
 },
 "nbformat": 4,
 "nbformat_minor": 5
}
