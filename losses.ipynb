{
 "cells": [
  {
   "cell_type": "markdown",
   "id": "822b80cb-95a6-4ac8-ba14-e9ecb7c9c7cf",
   "metadata": {},
   "source": [
    "# Loss function\n",
    "- Used to evaluate how good the model is fit to the data \n",
    "- technically, (dJ/dA[L]) without sum for every observation\n",
    "- Q: Why matter ? without them, \n",
    "- A: we do not know what to fill in blank <br>\n",
    "Gradient of ____ with respect to this parameter\n",
    "- This module only used to report the loss\n",
    "\n",
    "### Available loss function : \n",
    "- Binary Cross Entropy function (BCE) (**was planning to remove to make it general for both binary and multi-**)\n",
    "- Cross Entropy function (CE)\n",
    "- Mean Squared error (MSE) \n",
    "- These dZ[L] based on J (first chain for the gradient is dZ[L] not dA[L], how ever for l!=L : we firstly use dAl \n",
    "\n",
    "The following cost function is being used since it's atleast a convex function for Logistic regression (No hidden layer)"
   ]
  },
  {
   "cell_type": "code",
   "execution_count": 1,
   "id": "b9410bc3-bb0a-4286-be27-98c3f06cb538",
   "metadata": {},
   "outputs": [],
   "source": [
    "import numpy as np"
   ]
  },
  {
   "cell_type": "code",
   "execution_count": 2,
   "id": "044233e0-9bd9-4cba-a15f-57e9aff4bfb0",
   "metadata": {},
   "outputs": [],
   "source": [
    "__all__ = ['binary_cross_entropy_loss','cross_entropy_loss','MSE',\n",
    "           'BCE_dZL','CE_dZL','MSE_dZL']"
   ]
  },
  {
   "cell_type": "code",
   "execution_count": 3,
   "id": "d55656a8-6d8f-4e25-ba82-817245262951",
   "metadata": {},
   "outputs": [],
   "source": [
    "def binary_cross_entropy_loss(AL: np.ndarray, Y: np.ndarray) -> np.ndarray :  #plan to merge into cross entropy loss\n",
    "    return -((Y * np.log(AL)) + ((1 - Y) * np.log(1 - AL)))  # For 1 output unit\n",
    "\n",
    "def cross_entropy_loss(AL: np.ndarray, Y: np.ndarray) -> np.ndarray :\n",
    "    return -(Y * np.log(AL))\n",
    "\n",
    "def MSE(AL: np.ndarray, Y: np.ndarray) -> np.ndarray : # Often used for regression (output : linear)\n",
    "    return np.power(AL - Y , 2)"
   ]
  },
  {
   "cell_type": "code",
   "execution_count": 4,
   "id": "97475867-3b06-44cc-8401-1bb01c2ee6eb",
   "metadata": {},
   "outputs": [],
   "source": [
    "#dZL_loss_function\n",
    "\n",
    "def BCE_dZL(AL: np.ndarray, Y: np.ndarray) -> np.ndarray :  #plan to merge into cross entropy loss\n",
    "    return AL - Y   # For 1 output unit\n",
    "\n",
    "def CE_dZL(AL: np.ndarray, Y: np.ndarray) -> np.ndarray :\n",
    "    return  AL - Y\n",
    "\n",
    "def MSE_dZL(AL: np.ndarray, Y: np.ndarray) -> np.ndarray :\n",
    "    return 2 * (AL - Y)"
   ]
  },
  {
   "cell_type": "code",
   "execution_count": 12,
   "id": "04161b63-06e6-45d9-8768-3d7e7262ca5c",
   "metadata": {},
   "outputs": [],
   "source": [
    "#binary_cross_entropy_loss test\n",
    "\n",
    "y_test = np.array([[0.],[1.]])\n",
    "A_test = np.array([[0.1],[0.6]])"
   ]
  },
  {
   "cell_type": "code",
   "execution_count": 13,
   "id": "a521e888-a225-422b-b604-1adcf250b1fe",
   "metadata": {},
   "outputs": [
    {
     "data": {
      "text/plain": [
       "array([[0.10536052],\n",
       "       [0.51082562]])"
      ]
     },
     "execution_count": 13,
     "metadata": {},
     "output_type": "execute_result"
    }
   ],
   "source": [
    "binary_cross_entropy_loss(A_test,y_test)"
   ]
  },
  {
   "cell_type": "code",
   "execution_count": 14,
   "id": "30db1c79-5527-42af-ab06-c0247b1c7f25",
   "metadata": {},
   "outputs": [
    {
     "data": {
      "text/plain": [
       "array([[ 1.11111111],\n",
       "       [-1.66666667]])"
      ]
     },
     "execution_count": 14,
     "metadata": {},
     "output_type": "execute_result"
    }
   ],
   "source": [
    "BCE_dZL(A_test,y_test)"
   ]
  },
  {
   "cell_type": "code",
   "execution_count": 7,
   "id": "e26e36d2-938f-452f-8c44-b727992ff85f",
   "metadata": {},
   "outputs": [],
   "source": [
    "#cross_entropy_loss test\n",
    "\n",
    "y_test = np.array([[0,1,0,0],\n",
    "                   [1,0,0,0]])\n",
    "A_test = np.array([[0.02,0.9,0.03,0.05],\n",
    "                   [0.4,0.05,0.15,0.6]])"
   ]
  },
  {
   "cell_type": "code",
   "execution_count": 8,
   "id": "bfdfdc0e-41c6-424a-aaca-0297743f1710",
   "metadata": {},
   "outputs": [
    {
     "data": {
      "text/plain": [
       "array([[0.        , 0.10536052, 0.        , 0.        ],\n",
       "       [0.91629073, 0.        , 0.        , 0.        ]])"
      ]
     },
     "execution_count": 8,
     "metadata": {},
     "output_type": "execute_result"
    }
   ],
   "source": [
    "cross_entropy_loss(A_test,y_test)"
   ]
  },
  {
   "cell_type": "code",
   "execution_count": 10,
   "id": "0c906d89-418b-4f64-bed2-f31fa19b92dd",
   "metadata": {},
   "outputs": [
    {
     "data": {
      "text/plain": [
       "array([[-0.        , -1.11111111, -0.        , -0.        ],\n",
       "       [-2.5       , -0.        , -0.        , -0.        ]])"
      ]
     },
     "execution_count": 10,
     "metadata": {},
     "output_type": "execute_result"
    }
   ],
   "source": [
    "CE_dZL(A_test,y_test)"
   ]
  }
 ],
 "metadata": {
  "kernelspec": {
   "display_name": "Python 3 (ipykernel)",
   "language": "python",
   "name": "python3"
  },
  "language_info": {
   "codemirror_mode": {
    "name": "ipython",
    "version": 3
   },
   "file_extension": ".py",
   "mimetype": "text/x-python",
   "name": "python",
   "nbconvert_exporter": "python",
   "pygments_lexer": "ipython3",
   "version": "3.9.7"
  }
 },
 "nbformat": 4,
 "nbformat_minor": 5
}
