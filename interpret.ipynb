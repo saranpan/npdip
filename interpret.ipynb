{
 "cells": [
  {
   "cell_type": "markdown",
   "id": "a2551ae2-21fd-4b54-95c6-0c8bce57fef0",
   "metadata": {},
   "source": [
    "# Interpretation\n",
    "\n",
    "- `plot_decision_boundary`\n",
    "- `predict_dec`"
   ]
  },
  {
   "cell_type": "code",
   "execution_count": 1,
   "id": "1406a46f-d6ed-41e3-a38c-93027a9f61a0",
   "metadata": {},
   "outputs": [],
   "source": [
    "import import_ipynb"
   ]
  },
  {
   "cell_type": "code",
   "execution_count": 4,
   "id": "f88e55e2-2da0-4164-ab3e-637a8514f7ed",
   "metadata": {},
   "outputs": [
    {
     "name": "stdout",
     "output_type": "stream",
     "text": [
      "importing Jupyter notebook from C:\\Users\\Wallik\\Desktop\\dipple\\nbdip\\utils\\py_util.ipynb\n"
     ]
    }
   ],
   "source": [
    "from utils.py_util import pd_to_np\n",
    "\n",
    "# %% External module\n",
    "import numpy as np\n",
    "import matplotlib.pyplot as plt"
   ]
  },
  {
   "cell_type": "code",
   "execution_count": 5,
   "id": "656a7282-c4e2-4919-a92c-a485c7cbc899",
   "metadata": {},
   "outputs": [],
   "source": [
    "@pd_to_np                                     # Turn all pandas object argument into numpy.array object\n",
    "def plot_decision_boundary_2D(model, X, y, threshold = 0.5):\n",
    "    \"\"\"\n",
    "    Plot decision boundary for two features, show slicing map of response variable\n",
    "    \n",
    "    Argument:\n",
    "    model : model object which have method predict \n",
    "    X : Features as numpy object with dimension (m*2)\n",
    "    y : response as numpy object with dimension (m*1)\n",
    "    \n",
    "    \"\"\"\n",
    "    \n",
    "    assert X.shape[1] == 2\n",
    "    assert X.shape[0] == y.shape[0]\n",
    "    \n",
    "    X, y = X.T, y.T\n",
    "    \n",
    "    x1_min, x1_max = (X[0, :].min() - 1, X[0, :].max() + 1)  \n",
    "    x2_min, x2_max = (X[1, :].min() - 1, X[1, :].max() + 1)\n",
    "    \n",
    "    h = 0.01 \n",
    "    X1, X2 = np.meshgrid(np.arange(x1_min, x1_max, h), np.arange(x2_min, x2_max, h))   #Cartesian matching af set X1, X2 ; lower h, more smoother \n",
    "    \n",
    "\n",
    "    Z = model.predict(np.c_[X1.ravel(), X2.ravel()], threshold) \n",
    "    Z = Z.reshape(X1.shape)\n",
    "\n",
    "    plt.contourf(X1, X2, Z, cmap=plt.cm.Spectral)\n",
    "    plt.xlabel('X1')\n",
    "    plt.ylabel('X2')\n",
    "    \n",
    "    plt.scatter(X[0, :], X[1, :], c=y, cmap=plt.cm.Spectral)\n",
    "    plt.show()"
   ]
  }
 ],
 "metadata": {
  "kernelspec": {
   "display_name": "Python 3 (ipykernel)",
   "language": "python",
   "name": "python3"
  },
  "language_info": {
   "codemirror_mode": {
    "name": "ipython",
    "version": 3
   },
   "file_extension": ".py",
   "mimetype": "text/x-python",
   "name": "python",
   "nbconvert_exporter": "python",
   "pygments_lexer": "ipython3",
   "version": "3.9.7"
  }
 },
 "nbformat": 4,
 "nbformat_minor": 5
}
