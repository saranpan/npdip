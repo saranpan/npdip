{
 "cells": [
  {
   "cell_type": "markdown",
   "id": "1c9f8517-e358-4100-9405-c0c57f0cb2bc",
   "metadata": {},
   "source": [
    "# Metrics\n",
    "\n",
    "- `accuracy_score`"
   ]
  },
  {
   "cell_type": "code",
   "execution_count": null,
   "id": "971386c8-a0ce-40a7-888e-40a227108066",
   "metadata": {},
   "outputs": [],
   "source": [
    "import import_ipynb"
   ]
  },
  {
   "cell_type": "code",
   "execution_count": 3,
   "id": "29285ae3-65b7-41db-a065-8270e177f110",
   "metadata": {},
   "outputs": [],
   "source": [
    "# %% External module\n",
    "import numpy as np"
   ]
  },
  {
   "cell_type": "code",
   "execution_count": 17,
   "id": "9ac9588c-0452-4f4f-ac80-dfa887957021",
   "metadata": {},
   "outputs": [],
   "source": [
    "def accuracy_score(Y,Y_pred):\n",
    "    \"\"\"Evaluate accuracy for the classes\n",
    "    \n",
    "    Arguments\n",
    "    -------------------\n",
    "    Y --- np.array\n",
    "          with dimension : (1 or 2)\n",
    "            \n",
    "    Y_pred --- np.array\n",
    "               with dimension : 1\n",
    "    \n",
    "    Returns\n",
    "    ------------------\n",
    "    accuracy --- float\n",
    "    \"\"\"\n",
    "    \n",
    "    if Y.T.shape == Y_pred.shape:\n",
    "        Y = Y.T\n",
    "        \n",
    "    if Y.ndim == 2:\n",
    "        Y = np.squeeze(Y) # now Y ndim = 1\n",
    "    elif Y_pred.ndim == 2:\n",
    "        Y_pred = np.squeeze(Y_pred) # in case, the user swap the position of input between y_pred and y\n",
    "    \n",
    "    \n",
    "    arr = Y == Y_pred\n",
    "    arr_ = np.count_nonzero(arr) / len(arr)\n",
    "    \n",
    "    return arr_"
   ]
  }
 ],
 "metadata": {
  "kernelspec": {
   "display_name": "Python 3 (ipykernel)",
   "language": "python",
   "name": "python3"
  },
  "language_info": {
   "codemirror_mode": {
    "name": "ipython",
    "version": 3
   },
   "file_extension": ".py",
   "mimetype": "text/x-python",
   "name": "python",
   "nbconvert_exporter": "python",
   "pygments_lexer": "ipython3",
   "version": "3.9.7"
  }
 },
 "nbformat": 4,
 "nbformat_minor": 5
}
