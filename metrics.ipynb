{
 "cells": [
  {
   "cell_type": "markdown",
   "id": "1c9f8517-e358-4100-9405-c0c57f0cb2bc",
   "metadata": {},
   "source": [
    "# Metrics\n",
    "\n",
    "- `accuracy_score`"
   ]
  },
  {
   "cell_type": "code",
   "execution_count": null,
   "id": "971386c8-a0ce-40a7-888e-40a227108066",
   "metadata": {},
   "outputs": [],
   "source": [
    "import import_ipynb"
   ]
  },
  {
   "cell_type": "code",
   "execution_count": 3,
   "id": "29285ae3-65b7-41db-a065-8270e177f110",
   "metadata": {},
   "outputs": [],
   "source": [
    "# %% External module\n",
    "import pandas as pd"
   ]
  },
  {
   "cell_type": "code",
   "execution_count": 17,
   "id": "9ac9588c-0452-4f4f-ac80-dfa887957021",
   "metadata": {},
   "outputs": [],
   "source": [
    "\n",
    "def accuracy_score(Y,Y_pred):\n",
    "    \"\"\"Evaluate accuracy \n",
    "    \n",
    "    Arguments\n",
    "    -------------------\n",
    "    Y --- pd.Series\n",
    "            Series of actual data's class    \n",
    "            \n",
    "    Y_pred --- pd.Series\n",
    "                 Series of predicted data's class    \n",
    "    \n",
    "    Returns\n",
    "    ------------------\n",
    "    accuracy --- float\n",
    "    \"\"\"\n",
    "    \n",
    "    arr : pd.Series = Y == Y_pred\n",
    "    arr_ = arr.value_counts(normalize=True)\n",
    "    arr_ = arr_[True]\n",
    "    \n",
    "    return arr_"
   ]
  },
  {
   "cell_type": "code",
   "execution_count": 13,
   "id": "34c73f60-47ba-4fa5-b670-a28d1b931353",
   "metadata": {},
   "outputs": [],
   "source": [
    "y = pd.DataFrame({'a':[1,0,0]})\n",
    "y_pred = pd.DataFrame({'a':[1,0,1]})"
   ]
  },
  {
   "cell_type": "code",
   "execution_count": null,
   "id": "67cda60f-f56e-43b8-b279-4b75679fcf70",
   "metadata": {},
   "outputs": [],
   "source": []
  },
  {
   "cell_type": "code",
   "execution_count": 18,
   "id": "64c199d5-0074-4f37-99c9-04814dd81cd7",
   "metadata": {},
   "outputs": [
    {
     "data": {
      "text/plain": [
       "0.6666666666666666"
      ]
     },
     "execution_count": 18,
     "metadata": {},
     "output_type": "execute_result"
    }
   ],
   "source": [
    "accuracy_score(y,y_pred)"
   ]
  }
 ],
 "metadata": {
  "kernelspec": {
   "display_name": "Python 3 (ipykernel)",
   "language": "python",
   "name": "python3"
  },
  "language_info": {
   "codemirror_mode": {
    "name": "ipython",
    "version": 3
   },
   "file_extension": ".py",
   "mimetype": "text/x-python",
   "name": "python",
   "nbconvert_exporter": "python",
   "pygments_lexer": "ipython3",
   "version": "3.9.7"
  }
 },
 "nbformat": 4,
 "nbformat_minor": 5
}
