{
 "cells": [
  {
   "cell_type": "markdown",
   "id": "97d27c97-6105-4899-aa26-afb03c9fdac4",
   "metadata": {},
   "source": [
    "# Compute Cost Function of an iteration\n",
    "\n",
    "- For reporting to user, to show that the cost function per iteration is consistency updated to its local minima\n",
    "\n",
    "- Nothing to do with compute gradient of the cost function, since we compute gradient in `mlp.ipynb`\n",
    "\n",
    "- plan to add with `compute_grad` (Specifically for get_nesterov_momentum_v)\n",
    "\n",
    "# 2 cases\n",
    "- No regularization\n",
    "- Regularization \n",
    "> L2 : (+ squared Frobenius norm of all layers of weight )"
   ]
  },
  {
   "cell_type": "code",
   "execution_count": 1,
   "id": "d7d3c121-29c6-404d-b59b-f6c88e8843e7",
   "metadata": {},
   "outputs": [
    {
     "name": "stdout",
     "output_type": "stream",
     "text": [
      "importing Jupyter notebook from losses.ipynb\n",
      "importing Jupyter notebook from regularization.ipynb\n"
     ]
    }
   ],
   "source": [
    "import import_ipynb\n",
    "\n",
    "from losses import *\n",
    "from regularization import get_L2_weight_penalty\n",
    "# External modules\n",
    "import numpy as np"
   ]
  },
  {
   "cell_type": "code",
   "execution_count": 2,
   "id": "5f986662-3a4b-434c-8a81-3f7c6f1025dd",
   "metadata": {},
   "outputs": [],
   "source": [
    "__all__ = ['compute_cost','get_L2_weight_penalty']"
   ]
  },
  {
   "cell_type": "code",
   "execution_count": 3,
   "id": "36189d2d-4530-4f61-9e51-5183a633e7a3",
   "metadata": {},
   "outputs": [],
   "source": [
    "# !Support only L2 regularization\n",
    "def compute_cost(AL, Y , loss_function, regularization = None, **kwargs):\n",
    "    \"\"\"\n",
    "    Compute the cost function with respect to AL\n",
    "    cost function : Binary cross entropy\n",
    "    \n",
    "    Arguments:\n",
    "    -----------------------------------------\n",
    "    A --- predicted value from L-Forward model\n",
    "    y --- actual output\n",
    "    loss_function --- first class function, loss function like Binary-Cross Entropy\n",
    "    regularization --- regularization technique\n",
    "    \n",
    "    Keyword Arguments:\n",
    "    -----------------------------------------\n",
    "    lambd --- Regularization parameter for L2 Regularization \n",
    "    param --- Parameter for L2 Regularization (Especially weight)\n",
    "    \"\"\"\n",
    "    \n",
    "    #Setup\n",
    "    allowed_kwargs = {'lambd','param'} \n",
    "    for kwarg in kwargs.keys():\n",
    "        assert kwarg in allowed_kwargs, 'Invalid keyword argument: ' + kwarg\n",
    "        \n",
    "    m = Y.shape[1]\n",
    "    _loss = loss_function(AL, Y)\n",
    "    cost = np.divide(_loss, m)  # No significant difference in speed when compare to '/' though\n",
    "    cost = np.sum(cost, axis=1)\n",
    "\n",
    "        \n",
    "    if regularization:\n",
    "        if regularization == 'L2':\n",
    "            # -- Checking -- #\n",
    "            assert {'lambd','param'} <= set(kwargs), 'L2 Regularization lacks of keyword argument lambd or param'\n",
    "            lambd = kwargs['lambd']\n",
    "            param = kwargs['param']\n",
    "            # -- Validated -- #\n",
    "            cost += get_L2_weight_penalty(lambd,param,m)\n",
    "            \n",
    "        elif regularization == 'L1':\n",
    "            # ...\n",
    "            print(\"Not supported L1 now\")\n",
    "            pass\n",
    "        \n",
    "        else:                                \n",
    "            pass   # Dropout have same cost functton as None\n",
    "    \n",
    "    return cost"
   ]
  }
 ],
 "metadata": {
  "kernelspec": {
   "display_name": "Python 3 (ipykernel)",
   "language": "python",
   "name": "python3"
  },
  "language_info": {
   "codemirror_mode": {
    "name": "ipython",
    "version": 3
   },
   "file_extension": ".py",
   "mimetype": "text/x-python",
   "name": "python",
   "nbconvert_exporter": "python",
   "pygments_lexer": "ipython3",
   "version": "3.9.7"
  }
 },
 "nbformat": 4,
 "nbformat_minor": 5
}
