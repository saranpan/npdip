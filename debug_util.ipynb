{
 "cells": [
  {
   "attachments": {
    "fec037b1-444c-4dc8-9fd4-29e6e46cc6bb.png": {
     "image/png": "[encoded data removed]"
    }
   },
   "cell_type": "markdown",
   "id": "de5ff940-29c5-44f7-adcf-df05dffb37d7",
   "metadata": {},
   "source": [
    "# Debug Utilization\n",
    "\n",
    "- `gradient_check_n` : Check if our computed gradient is correct by Center Numerical Differentiation\n",
    "\n",
    "![image.png](attachment:fec037b1-444c-4dc8-9fd4-29e6e46cc6bb.png)"
   ]
  },
  {
   "cell_type": "code",
   "execution_count": 1,
   "id": "2dee1162-be51-4ad1-80c8-ffb4fbb44c5b",
   "metadata": {},
   "outputs": [],
   "source": [
    "import import_ipynb"
   ]
  },
  {
   "cell_type": "code",
   "execution_count": 2,
   "id": "7eca7958-c84e-4a96-88bc-d8825f252583",
   "metadata": {},
   "outputs": [
    {
     "name": "stdout",
     "output_type": "stream",
     "text": [
      "importing Jupyter notebook from mlp_component.ipynb\n",
      "importing Jupyter notebook from regularization.ipynb\n",
      "importing Jupyter notebook from compute_cost.ipynb\n",
      "importing Jupyter notebook from losses.ipynb\n"
     ]
    }
   ],
   "source": [
    "from mlp_component import L_model_forward\n",
    "from compute_cost import *\n",
    "from utils.py_util import dictionary_to_vector, vector_to_dictionary, gradients_to_vector\n",
    "\n",
    "\n",
    "# %% External module\n",
    "import numpy as np"
   ]
  },
  {
   "cell_type": "code",
   "execution_count": 3,
   "id": "f016d2d8-8ffe-4793-99b5-10bcd005b9a1",
   "metadata": {},
   "outputs": [],
   "source": [
    "def gradient_check_n(parameters, gradients, X, Y,\n",
    "                     activation_function, output_activation_function , \n",
    "                     loss_function  , regularization = None,\n",
    "                     epsilon = 1e-7, **kwargs):\n",
    "    \n",
    "    \"\"\"\n",
    "    Arguments:\n",
    "    loss_function : function object: \n",
    "    regularization : str -- \n",
    "    \n",
    "    Keyword Arguments:\n",
    "    -----------------------------------------\n",
    "    lambd --- Regularization parameter for L2 Regularization \n",
    "    param --- Parameter for L2 Regularization (Especially weight)\n",
    "    \"\"\"\n",
    "    \n",
    "    parameters_values, _ = dictionary_to_vector(parameters) #len(parameter_value) = all_parameter\n",
    "    grad = gradients_to_vector(parameters,gradients)                   # same len \n",
    "    num_parameters = parameters_values.shape[0]             # simply len(parameter_value)\n",
    "    \n",
    "    J_plus = np.zeros((num_parameters, 1))                  # + epsilon\n",
    "    J_minus = np.zeros((num_parameters, 1))                 # - epsilon\n",
    "    gradapprox = np.zeros((num_parameters, 1))              # d..\n",
    "    \n",
    "    # Compute gradapprox for every SINGLE parameter\n",
    "    for i in range(num_parameters):        \n",
    "       \n",
    "        thetaplus = np.copy(parameters_values)              # deepcopy\n",
    "        thetaplus[i][0] = thetaplus[i][0] + epsilon\n",
    "        AL, caches = L_model_forward(X = X,\n",
    "                                     param = vector_to_dictionary(thetaplus,parameters), #FIXED\n",
    "                                     hidden_activation_function = activation_function,\n",
    "                                     output_activation_function = output_activation_function)\n",
    "        \n",
    "        J_plus[i] = compute_cost(AL, Y, loss_function, regularization, **kwargs)\n",
    "        \n",
    "        thetaminus = np.copy(parameters_values)\n",
    "        thetaminus[i][0] = thetaminus[i][0] - epsilon\n",
    "        AL, caches = L_model_forward(X = X,\n",
    "                                     param = vector_to_dictionary(thetaminus,parameters),\n",
    "                                     hidden_activation_function = activation_function,\n",
    "                                     output_activation_function = output_activation_function)\n",
    "        \n",
    "        J_minus[i] = compute_cost(AL,Y, loss_function, regularization, **kwargs)\n",
    "        \n",
    "        gradapprox[i] = (J_plus[i]-J_minus[i])/(2*epsilon) # grad of SINGLE param\n",
    "    \n",
    "    \n",
    "    numerator = np.linalg.norm(gradapprox-grad)                   # L2 norm\n",
    "    denominator = np.linalg.norm(gradapprox)+np.linalg.norm(grad) \n",
    "    difference = numerator/denominator\n",
    "\n",
    "    if difference > 2*epsilon:\n",
    "        print (\"\\033[93m\" + \"⚠️ Probably, there is a mistake in the backward propagation! difference = \" + str(difference) + \"\\033[0m\")\n",
    "    else:\n",
    "        print (\"\\033[92m\" + \"✔️ Your backward propagation works perfectly fine! difference = \" + str(difference) + \"\\033[0m\")\n",
    "    \n",
    "    return difference"
   ]
  }
 ],
 "metadata": {
  "kernelspec": {
   "display_name": "Python 3 (ipykernel)",
   "language": "python",
   "name": "python3"
  },
  "language_info": {
   "codemirror_mode": {
    "name": "ipython",
    "version": 3
   },
   "file_extension": ".py",
   "mimetype": "text/x-python",
   "name": "python",
   "nbconvert_exporter": "python",
   "pygments_lexer": "ipython3",
   "version": "3.9.7"
  }
 },
 "nbformat": 4,
 "nbformat_minor": 5
}
