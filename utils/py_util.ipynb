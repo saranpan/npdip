{
 "cells": [
  {
   "cell_type": "code",
   "execution_count": 1,
   "id": "4f85ca7f-572a-4baa-8423-2ddb570e065f",
   "metadata": {},
   "outputs": [],
   "source": [
    "# %% External module\n",
    "import numpy as np\n",
    "import matplotlib.pyplot as plt"
   ]
  },
  {
   "cell_type": "code",
   "execution_count": 2,
   "id": "e0bf8d57-1160-4de7-ad72-b39a1ebcfc8f",
   "metadata": {},
   "outputs": [],
   "source": [
    "def dictionary_to_vector(parameters):\n",
    "    \"\"\"\n",
    "    Roll all our parameters dictionary into a single vector satisfying our specific required shape.\n",
    "    \"\"\"\n",
    "    keys = []\n",
    "    count = 0\n",
    "    params = []\n",
    "    num_params = len(parameters)//2\n",
    "    for l in range(1,num_params+1):\n",
    "        params = params + [\"W\"+str(l)]\n",
    "        params = params + [\"b\"+str(l)]\n",
    "        \n",
    "    for key in params:\n",
    "        \n",
    "        # flatten parameter\n",
    "        new_vector = np.reshape(parameters[key], (-1,1))\n",
    "        keys = keys + [key]*new_vector.shape[0]\n",
    "        \n",
    "        if count == 0:\n",
    "            theta = new_vector\n",
    "        else:\n",
    "            theta = np.concatenate((theta, new_vector), axis=0)\n",
    "        count = count + 1\n",
    "\n",
    "    return theta, keys"
   ]
  },
  {
   "cell_type": "code",
   "execution_count": 3,
   "id": "596f31ba-ecad-46c4-bd29-4c458c34134f",
   "metadata": {},
   "outputs": [],
   "source": [
    "def vector_to_dictionary(theta,parameters):\n",
    "    \"\"\"\n",
    "    Unroll all our parameters dictionary from a single vector satisfying our specific required shape.\n",
    "    \"\"\"\n",
    "    params = {}\n",
    "    num_params = len(parameters)//2\n",
    "    num_data_n = 0\n",
    "    for l in range(1,num_params+1):\n",
    "        num_data = num_data_n\n",
    "        num_data_n = num_data + parameters[\"W\"+str(l)].shape[0]*parameters[\"W\"+str(l)].shape[1]\n",
    "        \n",
    "        params[\"W\"+str(l)] =theta[num_data:num_data_n].reshape((parameters[\"W\"+str(l)].shape[0],\n",
    "                                                                parameters[\"W\"+str(l)].shape[1]))\n",
    "        \n",
    "        num_data = num_data_n\n",
    "        num_data_n = num_data + parameters[\"b\"+str(l)].shape[0]*parameters[\"b\"+str(l)].shape[1]\n",
    "        params[\"b\"+str(l)] = theta[num_data:num_data_n].reshape((parameters[\"b\"+str(l)].shape[0],\n",
    "                                                                 parameters[\"b\"+str(l)].shape[1]))\n",
    "\n",
    "    return params"
   ]
  },
  {
   "cell_type": "code",
   "execution_count": 4,
   "id": "845635a1-08f9-47fe-a3a4-c0173a1dccde",
   "metadata": {},
   "outputs": [],
   "source": [
    "def gradients_to_vector(parameters,gradients):\n",
    "    \"\"\"\n",
    "    Roll all our gradients dictionary into a single vector satisfying our specific required shape.\n",
    "    \"\"\"\n",
    "    \n",
    "    count = 0\n",
    "    params = []\n",
    "    num_params = len(parameters)//2\n",
    "    for l in range(1,num_params+1):\n",
    "        params = params + [\"dW\"+str(l)]\n",
    "        params = params + [\"db\"+str(l)]\n",
    "        \n",
    "    for key in params:\n",
    "        # flatten parameter\n",
    "        new_vector = np.reshape(gradients[key], (-1,1))\n",
    "        \n",
    "        if count == 0:\n",
    "            theta = new_vector\n",
    "        else:\n",
    "            theta = np.concatenate((theta, new_vector), axis=0)\n",
    "        count = count + 1\n",
    "\n",
    "    return theta"
   ]
  },
  {
   "cell_type": "code",
   "execution_count": null,
   "id": "28359dfb-d610-457b-84ee-35515f068c7d",
   "metadata": {},
   "outputs": [],
   "source": [
    "def pd_to_np(any_func):\n",
    "    \"\"\"\n",
    "    A Higher-order function\n",
    "    Work as Decorator of any function which like to turn every pandas object into numpy\n",
    "    \n",
    "    \"\"\"\n",
    "\n",
    "    import pandas as pd\n",
    "    \n",
    "    def wrapper_function(*args,**kwargs):\n",
    "\n",
    "        for key, value in kwargs.items():\n",
    "            if isinstance(value,pd.DataFrame):\n",
    "                value_ = value.to_numpy()\n",
    "                kwargs[key] = value_       #updated from value pandas to numpy\n",
    "        \n",
    "        return any_func(*args, **kwargs)\n",
    "\n",
    "    return wrapper_function"
   ]
  }
 ],
 "metadata": {
  "kernelspec": {
   "display_name": "Python 3 (ipykernel)",
   "language": "python",
   "name": "python3"
  },
  "language_info": {
   "codemirror_mode": {
    "name": "ipython",
    "version": 3
   },
   "file_extension": ".py",
   "mimetype": "text/x-python",
   "name": "python",
   "nbconvert_exporter": "python",
   "pygments_lexer": "ipython3",
   "version": "3.9.7"
  }
 },
 "nbformat": 4,
 "nbformat_minor": 5
}
