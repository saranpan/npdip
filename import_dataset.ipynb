{
 "cells": [
  {
   "cell_type": "markdown",
   "id": "6b7ea2da-218b-490e-80fd-73942716fab0",
   "metadata": {},
   "source": [
    "# Import_dataset\n",
    "\n",
    "sample dataset to test and check our model dipple"
   ]
  },
  {
   "cell_type": "code",
   "execution_count": 2,
   "id": "a4192db1-92ee-455f-90fc-e1a0905d09ce",
   "metadata": {},
   "outputs": [],
   "source": [
    "# %% External module\n",
    "import scipy.io\n",
    "import numpy as np\n",
    "import pandas as pd\n",
    "import matplotlib.pyplot as plt\n",
    "import seaborn as sns\n",
    "import sklearn.datasets\n",
    "from sklearn.model_selection import train_test_split"
   ]
  },
  {
   "cell_type": "code",
   "execution_count": 48,
   "id": "dd0fefe2-7ad0-45c9-b146-2da283aea36f",
   "metadata": {},
   "outputs": [],
   "source": [
    "def load_2D_dataset_football():\n",
    "    \"\"\" Receive data file and partition into train test set\"\"\"\n",
    "    data = scipy.io.loadmat('Dataset/data_football.mat')\n",
    "        \n",
    "    train_X = data['X'].T\n",
    "    train_Y = data['y'].T\n",
    "    test_X = data['Xval'].T\n",
    "    test_Y = data['yval'].T\n",
    "    \n",
    "    return train_X, train_Y, test_X, test_Y\n",
    "\n",
    "\n",
    "def load_2D_dataset_crescent() -> np.array:\n",
    "    \"\"\" \n",
    "    Generated dataset make_moon from package sklearn.datasets\n",
    "    and partition those into train test set\n",
    "    \n",
    "    Argument:\n",
    "    None\n",
    "    \n",
    "    Return :\n",
    "    train_X --- np.array of training X\n",
    "    train_Y --- np.array of training Y\n",
    "    test_X --- np.array of testing X\n",
    "    test_Y --- np.array of testing Y\n",
    "    \"\"\"\n",
    "    \n",
    "    np.random.seed(3)\n",
    "    train_X, train_Y = sklearn.datasets.make_moons(n_samples=300, noise=.2) \n",
    "    test_X, test_Y = sklearn.datasets.make_moons(n_samples=60, noise=.2) \n",
    "    \n",
    "    train_X = train_X.T\n",
    "    train_Y = train_Y.reshape((1, train_Y.shape[0]))\n",
    "    test_X = test_X.T\n",
    "    test_Y = test_Y.reshape((1, test_Y.shape[0]))   \n",
    "    \n",
    "    return train_X, train_Y, test_X, test_Y\n"
   ]
  },
  {
   "cell_type": "code",
   "execution_count": 22,
   "id": "d786e0cc-92a1-44eb-9848-2a4820064d20",
   "metadata": {},
   "outputs": [],
   "source": [
    "def merge_split_train_test_into_df(train_X, train_Y,test_X, test_Y):\n",
    "    \"\"\"\n",
    "    Compact (train_X, train_Y,test_X, test_Y) into train_test dataset\n",
    "    \"\"\"\n",
    "    df_train = pd.DataFrame(np.column_stack([train_X.T, train_Y.T]), \n",
    "                               columns=['x1', 'x2', 'y'])\n",
    "    \n",
    "    df_test = pd.DataFrame(np.column_stack([test_X.T, test_Y.T]), \n",
    "                           columns=['x1', 'x2', 'y'])\n",
    "    \n",
    "    df_train = df_train.astype({\"y\":'category'})\n",
    "    df_test = df_test.astype({\"y\":'category'})\n",
    "    \n",
    "    sns.set()\n",
    "    fig, axes = plt.subplots(1, 2)\n",
    "\n",
    "    p = sns.scatterplot(data=df_train,x='x1',y='x2',hue='y',ax=axes[0])\n",
    "    p.set_title('Training set')\n",
    "    \n",
    "    g = sns.scatterplot(data=df_test,x='x1',y='x2',hue='y',ax=axes[1])\n",
    "    g.set_title('Test set')\n",
    "\n",
    "    fig.tight_layout()\n",
    "    \n",
    "    return df_train, df_test"
   ]
  },
  {
   "cell_type": "code",
   "execution_count": 49,
   "id": "b75b494f-54aa-4d22-b528-d7d1176f1b71",
   "metadata": {},
   "outputs": [],
   "source": [
    "class Dataset_Library:\n",
    "    \n",
    "    \"\"\"\n",
    "    A Dataset Library where contains all essential datasets to test on model\n",
    "    \"\"\"\n",
    "    \n",
    "    avai_load_func =    {'football' : load_2D_dataset_football ,\n",
    "                         'crescent' : load_2D_dataset_crescent}\n",
    "    \n",
    "    def __init__(self,data_name):\n",
    "        load_f = self.avai_load_func.get(data_name,None)\n",
    "        \n",
    "        if load_f:\n",
    "            self.load_f = load_f\n",
    "        else :\n",
    "            raise ValueError(f'{data_name} is not in Dataset_Library.avai_load_func')\n",
    "     \n",
    "        self.train_X, self.train_Y, self.test_X, self.test_Y = self.load_f()\n",
    "        self.df_train, self.df_test = merge_split_train_test_into_df(self.train_X, self.train_Y, self.test_X, self.test_Y)\n",
    "        \n",
    "    def get_4split(self):\n",
    "        return self.train_X, self.train_Y, self.test_X, self.test_Y\n",
    "    \n",
    "    def get_2df(self):\n",
    "        return self.df_train, self.df_test\n",
    "        "
   ]
  }
 ],
 "metadata": {
  "kernelspec": {
   "display_name": "Python 3 (ipykernel)",
   "language": "python",
   "name": "python3"
  },
  "language_info": {
   "codemirror_mode": {
    "name": "ipython",
    "version": 3
   },
   "file_extension": ".py",
   "mimetype": "text/x-python",
   "name": "python",
   "nbconvert_exporter": "python",
   "pygments_lexer": "ipython3",
   "version": "3.9.7"
  }
 },
 "nbformat": 4,
 "nbformat_minor": 5
}
