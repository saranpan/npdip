{
 "cells": [
  {
   "cell_type": "markdown",
   "id": "0b1e8ff5-dc03-45f8-8ce2-55ae76f2c49a",
   "metadata": {},
   "source": [
    "# DataLoader\n",
    "\n",
    "- For stochastic and mini batch gradient descent\n",
    "- Split and partition the whole dataset into batch dataset (still Pandas dataframe object)\n"
   ]
  },
  {
   "cell_type": "code",
   "execution_count": 1,
   "id": "d146ac66-df4b-4bdd-b2a0-bf4497f20dd4",
   "metadata": {},
   "outputs": [],
   "source": [
    "# %% External module\n",
    "import pandas as pd"
   ]
  },
  {
   "cell_type": "code",
   "execution_count": null,
   "id": "c45c8b1b-5c71-4399-9961-0bbe9f0218a0",
   "metadata": {},
   "outputs": [],
   "source": [
    "__all__ = ['data_loader']"
   ]
  },
  {
   "cell_type": "code",
   "execution_count": null,
   "id": "acdcff9b-854b-4567-b91e-3c9984ffd3f5",
   "metadata": {},
   "outputs": [],
   "source": [
    "def data_loader(df,batch_size:int,y:str,seed:int=42) -> list:\n",
    "    \"\"\"Shuffle & Partition dataframe\n",
    "    \n",
    "    Arguments\n",
    "    ----------\n",
    "    df : pd.DataFrame\n",
    "         Pandas DataFrame containing X, y\n",
    "         \n",
    "    batch_size : int\n",
    "                 Size of batch (Recommended batch size to be a power of 2, eg. 16,32,256,1024...)\n",
    "                 1. Batch -- Length of DataFrame\n",
    "                 2. Mini-Batch -- Between 1 and Length of DataFrame\n",
    "                 3. Stochastic -- 1\n",
    "                 \n",
    "    y : str\n",
    "        response variable column name\n",
    "    \n",
    "    seed : int\n",
    "           random seed for shuffling the rows in df\n",
    "    Returns\n",
    "    ----------\n",
    "    all_batch : list\n",
    "                a list containing all batchs\n",
    "    \n",
    "    \"\"\"\n",
    "    \n",
    "    import warnings\n",
    "    warnings.filterwarnings(\"ignore\")\n",
    "    \n",
    "    m = df.shape[0]\n",
    "    # Randomly Shuffle\n",
    "    shuffle_df = df.sample(frac = 1,random_state=seed)\n",
    "    \n",
    "    shuffle_y = shuffle_df.loc[:,y]\n",
    "    shuffle_X = shuffle_df.drop(y, axis=1)\n",
    "    \n",
    "    # Partitioning for complete mini batch size\n",
    "    mini_batches = []\n",
    "    complete_batch = m // batch_size\n",
    "    \n",
    "    \n",
    "    for batch in range(complete_batch):\n",
    "        mini_batch_X = shuffle_X.iloc[batch_size*batch : batch_size*(batch+1)]\n",
    "        mini_batch_y = shuffle_y.iloc[batch_size*batch : batch_size*(batch+1)]\n",
    "        mini_batch = (mini_batch_X,mini_batch_y)\n",
    "        \n",
    "        mini_batches.append(mini_batch)\n",
    "    \n",
    "    # Partitioning for last incomplete case (If have)  \n",
    "    if m % batch_size != 0:\n",
    "        mini_batch_X = shuffle_X.iloc[batch_size*complete_batch: ]\n",
    "        mini_batch_y = shuffle_y.iloc[batch_size*complete_batch: ]\n",
    "        mini_batch = (mini_batch_X,mini_batch_y)\n",
    "        \n",
    "        mini_batches.append(mini_batch)\n",
    "    \n",
    "    return mini_batches"
   ]
  }
 ],
 "metadata": {
  "kernelspec": {
   "display_name": "Python 3 (ipykernel)",
   "language": "python",
   "name": "python3"
  },
  "language_info": {
   "codemirror_mode": {
    "name": "ipython",
    "version": 3
   },
   "file_extension": ".py",
   "mimetype": "text/x-python",
   "name": "python",
   "nbconvert_exporter": "python",
   "pygments_lexer": "ipython3",
   "version": "3.9.7"
  }
 },
 "nbformat": 4,
 "nbformat_minor": 5
}
